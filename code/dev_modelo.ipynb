{
 "cells": [
  {
   "cell_type": "code",
   "execution_count": 6,
   "metadata": {},
   "outputs": [],
   "source": [
    "#Importações\n",
    "import pandas as pd\n",
    "from sklearn.model_selection import train_test_split\n",
    "import mlflow\n",
    "import pycaret.classification as pc\n",
    "\n",
    "import matplotlib.pyplot as plt\n",
    "from sklearn.model_selection import validation_curve\n",
    "\n",
    "import numpy as np\n",
    "from sklearn.metrics import make_scorer, f1_score\n",
    "from sklearn.metrics import log_loss\n",
    "from sklearn.linear_model import LogisticRegression\n",
    "from sklearn.tree import DecisionTreeClassifier\n"
   ]
  },
  {
   "cell_type": "code",
   "execution_count": 7,
   "metadata": {},
   "outputs": [],
   "source": [
    "# Para usar o sqlite como repositorio\n",
    "mlflow.set_tracking_uri(\"sqlite:///mlflow.db\")\n",
    "\n",
    "experiment_name = 'Projeto Kobe '\n",
    "experiment = mlflow.get_experiment_by_name(experiment_name)\n",
    "if experiment is None:\n",
    "    experiment_id = mlflow.create_experiment(experiment_name)\n",
    "    experiment = mlflow.get_experiment(experiment_id)\n",
    "experiment_id = experiment.experiment_id"
   ]
  },
  {
   "cell_type": "markdown",
   "metadata": {
    "notebookRunGroups": {
     "groupValue": "1"
    }
   },
   "source": [
    "Preparação dos dados"
   ]
  },
  {
   "cell_type": "code",
   "execution_count": 9,
   "metadata": {
    "notebookRunGroups": {
     "groupValue": "1"
    }
   },
   "outputs": [],
   "source": [
    "\n",
    "#MLflow\n",
    "with mlflow.start_run(experiment_id=experiment_id, run_name='PreparacaoDados'):\n",
    "   \n",
    "    percentual_treino = 0.8\n",
    "    \n",
    "  \n",
    "    df_dev = pd.read_parquet(\"../data/raw/dataset_kobe_dev.parquet\")\n",
    "    \n",
    "    # Colunas selecionadas\n",
    "    colunas_selecionadas = ['lat','lon','minutes_remaining', 'period', 'playoffs', 'shot_distance', 'shot_made_flag']\n",
    "\n",
    "    # Carregar o DataFrame a partir do arquivo parquet\n",
    "    df_dev = pd.read_parquet(\"../data/raw/dataset_kobe_dev.parquet\")\n",
    "\n",
    "    # Remover todas as colunas que não estão na lista 'colunas_selecionadas'\n",
    "    colunas_para_remover = [coluna for coluna in df_dev.columns if coluna not in colunas_selecionadas]\n",
    "    df_dev.drop(columns=colunas_para_remover, inplace=True)\n",
    "    df_dev = df_dev.dropna()\n",
    "\n",
    "    df_dev.to_parquet('../data/processed/data_filtered.parquet', index=False)\n",
    "    df_dev['shot_made_flag'] = df_dev['shot_made_flag'].astype(int)\n",
    "    xtrain, xtest, ytrain, ytest =  train_test_split(df_dev[['lat', 'lon', 'minutes_remaining', 'period', 'playoffs', 'shot_distance']],\n",
    "                                                     df_dev['shot_made_flag'],\n",
    "                                                     test_size= percentual_treino,\n",
    "                                                     stratify=df_dev['shot_made_flag']\n",
    "                                                   )\n",
    "   \n",
    "    xtrain['shot_made_flag'] = ytrain\n",
    "    ytrain['shot_made_flag'] = ytest\n",
    "   \n",
    "    xtrain.to_parquet(\"../data/processed/base_train.parque\")\n",
    "    xtest.to_parquet(\"../data/processed/base_test.parque\")   \n",
    "   \n",
    "     # Registre os parâmetros e métricas no MLflow\n",
    "    mlflow.log_param('percentual_test', 1 - percentual_treino)\n",
    "    mlflow.log_param('colunas_selecionadas', colunas_selecionadas)\n",
    "    mlflow.log_metric('qtd_linhas_treino', xtrain.shape[0])\n",
    "    mlflow.log_metric('qtd_linhas_test', xtest.shape[0])"
   ]
  },
  {
   "cell_type": "code",
   "execution_count": null,
   "metadata": {},
   "outputs": [],
   "source": []
  }
 ],
 "metadata": {
  "kernelspec": {
   "display_name": "venv",
   "language": "python",
   "name": "python3"
  },
  "language_info": {
   "codemirror_mode": {
    "name": "ipython",
    "version": 3
   },
   "file_extension": ".py",
   "mimetype": "text/x-python",
   "name": "python",
   "nbconvert_exporter": "python",
   "pygments_lexer": "ipython3",
   "version": "3.11.3"
  }
 },
 "nbformat": 4,
 "nbformat_minor": 2
}
